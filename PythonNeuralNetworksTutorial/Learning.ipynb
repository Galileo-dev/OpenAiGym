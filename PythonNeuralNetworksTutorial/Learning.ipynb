{
  "nbformat": 4,
  "nbformat_minor": 0,
  "metadata": {
    "colab": {
      "name": "Learning.ipynb",
      "provenance": [],
      "collapsed_sections": [],
      "toc_visible": true,
      "authorship_tag": "ABX9TyO5M4J7zdGln/s621YNRqW5",
      "include_colab_link": true
    },
    "kernelspec": {
      "name": "python3",
      "display_name": "Python 3"
    }
  },
  "cells": [
    {
      "cell_type": "markdown",
      "metadata": {
        "id": "view-in-github",
        "colab_type": "text"
      },
      "source": [
        "<a href=\"https://colab.research.google.com/github/Galileo-dev/OpenAiGym/blob/master/PythonNeuralNetworksTutorial/Learning.ipynb\" target=\"_parent\"><img src=\"https://colab.research.google.com/assets/colab-badge.svg\" alt=\"Open In Colab\"/></a>"
      ]
    },
    {
      "cell_type": "code",
      "metadata": {
        "id": "CdVbbSUGdCnf",
        "colab_type": "code",
        "colab": {}
      },
      "source": [
        "%tensorflow_version 2.x\n",
        "import tensorflow as tf\n",
        "from tensorflow import keras\n",
        "import numpy as np  \n"
      ],
      "execution_count": null,
      "outputs": []
    },
    {
      "cell_type": "code",
      "metadata": {
        "id": "yoiaSLdPg0zX",
        "colab_type": "code",
        "colab": {}
      },
      "source": [
        "model = keras.Sequential([keras.layers.Dense(units=1, input_shape=[1])])\n",
        "model.compile(optimizer='sgd', loss='mean_squared_error')\n",
        "\n",
        "xs = np.array([-1.0, 0.0, 1.0, 2.0, 3.0, 4.0], dtype=float)\n",
        "ys = np.array([-3.0, -1.0, 1.0, 3.0, 5.0, 7.0], dtype=float)\n",
        "\n",
        "model.fit(xs, ys, epochs=500)"
      ],
      "execution_count": null,
      "outputs": []
    },
    {
      "cell_type": "code",
      "metadata": {
        "id": "nSuz2CcHMdoH",
        "colab_type": "code",
        "colab": {
          "base_uri": "https://localhost:8080/",
          "height": 54
        },
        "outputId": "0fd35bcb-86ff-4951-b2de-644b10e2548a"
      },
      "source": [
        "result=[]\n",
        "for x in range(1, 20):\n",
        "  y = model.predict([float(x)]).astype(np.float)\n",
        "  y = y[0][0]\n",
        "  result.append(y)\n",
        "print(result)"
      ],
      "execution_count": 18,
      "outputs": [
        {
          "output_type": "stream",
          "text": [
            "[1.0052868127822876, 3.002769708633423, 5.000252723693848, 6.997735500335693, 8.995218276977539, 10.992701530456543, 12.99018383026123, 14.987667083740234, 16.985149383544922, 18.98263168334961, 20.980113983154297, 22.97760009765625, 24.975082397460938, 26.972564697265625, 28.970046997070312, 30.967529296875, 32.96501541137695, 34.96249771118164, 36.95998001098633]\n"
          ],
          "name": "stdout"
        }
      ]
    },
    {
      "cell_type": "code",
      "metadata": {
        "id": "4rfs0t1EEio0",
        "colab_type": "code",
        "colab": {
          "base_uri": "https://localhost:8080/",
          "height": 319
        },
        "outputId": "d0e0b3db-9c38-435f-a4b8-60b45d1e1779"
      },
      "source": [
        "\n",
        "import matplotlib.pyplot as plt\n",
        "x_data = xs.astype(float)\n",
        "y_data = result\n",
        "\n",
        "print(x_data)\n",
        "print(y_data)\n",
        "# evenly sampled time at 200ms intervals\n",
        "#t = np.arange(0., 5., 0.2)\n",
        "\n",
        "# red dashes, blue squares and green triangles\n",
        "#plt.plot(t, t, 'r--', t, t**2, 'bs', t, t**3, 'g^')\n",
        "plt.scatter(x_data, y_data)\n",
        "plt.show()"
      ],
      "execution_count": 24,
      "outputs": [
        {
          "output_type": "stream",
          "text": [
            "[1.0052868127822876, 3.002769708633423, 5.000252723693848, 6.997735500335693, 8.995218276977539, 10.992701530456543, 12.99018383026123, 14.987667083740234, 16.985149383544922, 18.98263168334961, 20.980113983154297, 22.97760009765625, 24.975082397460938, 26.972564697265625, 28.970046997070312, 30.967529296875, 32.96501541137695, 34.96249771118164, 36.95998001098633]\n",
            "[1.0052868127822876, 3.002769708633423, 5.000252723693848, 6.997735500335693, 8.995218276977539, 10.992701530456543, 12.99018383026123, 14.987667083740234, 16.985149383544922, 18.98263168334961, 20.980113983154297, 22.97760009765625, 24.975082397460938, 26.972564697265625, 28.970046997070312, 30.967529296875, 32.96501541137695, 34.96249771118164, 36.95998001098633]\n"
          ],
          "name": "stdout"
        },
        {
          "output_type": "display_data",
          "data": {
            "image/png": "[encoded data removed]",
            "text/plain": [
              "<Figure size 432x288 with 1 Axes>"
            ]
          },
          "metadata": {
            "tags": [],
            "needs_background": "light"
          }
        }
      ]
    }
  ]
}